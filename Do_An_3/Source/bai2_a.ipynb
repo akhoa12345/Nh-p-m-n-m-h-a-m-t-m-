{
 "cells": [
  {
   "cell_type": "code",
   "execution_count": 1,
   "metadata": {},
   "outputs": [],
   "source": [
    "from cryptography.hazmat.backends import default_backend\n",
    "from cryptography.hazmat.primitives import serialization, hashes\n",
    "from cryptography.hazmat.primitives.asymmetric import padding"
   ]
  },
  {
   "cell_type": "code",
   "execution_count": 3,
   "metadata": {},
   "outputs": [],
   "source": [
    "def encrypt_data(public_key_file, plaintext_file, ciphertext_file):\n",
    "    # Đọc khóa công khai từ tệp pub.pem\n",
    "    with open(public_key_file, \"rb\") as key_file:\n",
    "        public_key = serialization.load_pem_public_key(\n",
    "            key_file.read(),\n",
    "            backend=default_backend()\n",
    "        )\n",
    "\n",
    "    # Đọc bản rõ từ tệp plain\n",
    "    with open(plaintext_file, \"rb\") as plain_file:\n",
    "        plaintext = plain_file.read()\n",
    "\n",
    "    # Mã hóa dữ liệu sử dụng khóa công khai\n",
    "    ciphertext = public_key.encrypt(\n",
    "        plaintext,\n",
    "        padding.OAEP(\n",
    "            mgf=padding.MGF1(algorithm=hashes.SHA256()),\n",
    "            algorithm=hashes.SHA256(),\n",
    "            label=None\n",
    "        )\n",
    "    )\n",
    "\n",
    "    # Lưu bản mã vào tệp cipher\n",
    "    with open(ciphertext_file, \"wb\") as cipher_file:\n",
    "        cipher_file.write(ciphertext)\n",
    "\n",
    "public_key_file_path = './key/pub.pem'\n",
    "plaintext_file_path = './key/plain.txt'\n",
    "ciphertext_file_path = './key/cipher.txt'\n",
    "\n",
    "encrypt_data(public_key_file_path, plaintext_file_path, ciphertext_file_path)"
   ]
  }
 ],
 "metadata": {
  "kernelspec": {
   "display_name": "Python 3",
   "language": "python",
   "name": "python3"
  },
  "language_info": {
   "codemirror_mode": {
    "name": "ipython",
    "version": 3
   },
   "file_extension": ".py",
   "mimetype": "text/x-python",
   "name": "python",
   "nbconvert_exporter": "python",
   "pygments_lexer": "ipython3",
   "version": "3.11.7"
  }
 },
 "nbformat": 4,
 "nbformat_minor": 2
}
