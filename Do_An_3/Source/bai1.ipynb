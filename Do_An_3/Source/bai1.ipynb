{
 "cells": [
  {
   "cell_type": "code",
   "execution_count": 12,
   "metadata": {},
   "outputs": [],
   "source": [
    "from cryptography.hazmat.backends import default_backend\n",
    "from cryptography.hazmat.primitives import serialization"
   ]
  },
  {
   "cell_type": "code",
   "execution_count": 13,
   "metadata": {},
   "outputs": [
    {
     "name": "stdout",
     "output_type": "stream",
     "text": [
      "Private Key Components:\n",
      "------------------------------------------------------\n",
      "Key Type: RSA\n",
      "Private Exponent (d): 660673182291459693855974833116601870524705753630572619225268768021498580728371204766535894213143048053336934432507842878404609975415878254926883308803221867648362137368586298903496324591211269236067763763426639254786957279287698707115455529687416269299459336789196204307026290737132419594052320230814077543307581769176625040467819546731011479383556645629972573883544255418854366224807158992667760989472855110801461116075963937232607110573937462512876270508218857425033071265946926536413651244007689844008911323545285307706456866398531758171293147792380152862156380517262292773753685003965394273963637206877560544793\n",
      "Public Exponent (e): 65537\n",
      "Modulus (N): 17847707480558694953107593832630971470971822331280642104767699608336748757294008098427231203234441855017123937305550906315747289348240071390413500168605421079996170402607188899933404214647243591065199107074893510651678820780164019030595881718517807106792525373105338681644510311640332804177826426614535119520361713736662736465074177502717231118957310424418396391948664504845022426268181147592169356829237817961428547248207182929084931963592695721510707524308091735576011741023970909080138322014503063278381637411894842623629436202604149672136622268103415744603459645342451150221542271847315887348415905723990502376493\n",
      "Exponent (E): 65537\n",
      "\n",
      "----------------------------------------\n",
      "\n",
      "Public Key Components:\n",
      "------------------------------------------------------\n",
      "Modulus (N): 17847707480558694953107593832630971470971822331280642104767699608336748757294008098427231203234441855017123937305550906315747289348240071390413500168605421079996170402607188899933404214647243591065199107074893510651678820780164019030595881718517807106792525373105338681644510311640332804177826426614535119520361713736662736465074177502717231118957310424418396391948664504845022426268181147592169356829237817961428547248207182929084931963592695721510707524308091735576011741023970909080138322014503063278381637411894842623629436202604149672136622268103415744603459645342451150221542271847315887348415905723990502376493\n",
      "Exponent (E): 65537\n"
     ]
    }
   ],
   "source": [
    "def read_key_file(file_path, is_private_key=True):\n",
    "    with open(file_path, 'rb') as key_file:\n",
    "        if is_private_key:\n",
    "            key = serialization.load_pem_private_key(\n",
    "                key_file.read(),\n",
    "                password=None, \n",
    "                backend=default_backend()\n",
    "            )\n",
    "        else:\n",
    "            key = serialization.load_pem_public_key(\n",
    "                key_file.read(),\n",
    "                backend=default_backend()\n",
    "            )\n",
    "        return key\n",
    "\n",
    "def display_key_components(key, is_private_key=True):\n",
    "    print(f\"{'Private' if is_private_key else 'Public'} Key Components:\")\n",
    "    print(\"------------------------------------------------------\")\n",
    "\n",
    "    if is_private_key:\n",
    "        private_numbers = key.private_numbers()\n",
    "        print(f\"Key Type: RSA\")\n",
    "        print(f\"Private Exponent (d): {private_numbers.d}\")\n",
    "        print(f\"Public Exponent (e): {private_numbers.public_numbers.e}\")\n",
    "\n",
    "    if is_private_key:\n",
    "        public_numbers = key.private_numbers().public_numbers\n",
    "    else:\n",
    "        public_numbers = key.public_numbers()\n",
    "\n",
    "    print(f\"Modulus (N): {public_numbers.n}\")\n",
    "    print(f\"Exponent (E): {public_numbers.e}\")\n",
    "\n",
    "private_key_file_path = './key/priv.pem'\n",
    "public_key_file_path = './key/pub.pem'\n",
    "\n",
    "private_key = read_key_file(private_key_file_path, is_private_key=True)\n",
    "public_key = read_key_file(public_key_file_path, is_private_key=False)\n",
    "\n",
    "display_key_components(private_key, is_private_key=True)\n",
    "print(\"\\n----------------------------------------\\n\")\n",
    "display_key_components(public_key, is_private_key=False)"
   ]
  }
 ],
 "metadata": {
  "kernelspec": {
   "display_name": "Python 3",
   "language": "python",
   "name": "python3"
  },
  "language_info": {
   "codemirror_mode": {
    "name": "ipython",
    "version": 3
   },
   "file_extension": ".py",
   "mimetype": "text/x-python",
   "name": "python",
   "nbconvert_exporter": "python",
   "pygments_lexer": "ipython3",
   "version": "3.11.7"
  }
 },
 "nbformat": 4,
 "nbformat_minor": 2
}
