{
 "cells": [
  {
   "cell_type": "code",
   "execution_count": 1,
   "metadata": {},
   "outputs": [],
   "source": [
    "from cryptography.hazmat.backends import default_backend\n",
    "from cryptography.hazmat.primitives import serialization, hashes\n",
    "from cryptography.hazmat.primitives.asymmetric import padding"
   ]
  },
  {
   "cell_type": "code",
   "execution_count": 3,
   "metadata": {},
   "outputs": [],
   "source": [
    "def sign_message(private_key_file, message_file, signature_file):\n",
    "    # Đọc khóa bí mật từ tệp priv.pem\n",
    "    with open(private_key_file, \"rb\") as key_file:\n",
    "        private_key = serialization.load_pem_private_key(\n",
    "            key_file.read(),\n",
    "            password=None,\n",
    "            backend=default_backend()\n",
    "        )\n",
    "\n",
    "    # Đọc tin nhắn từ tệp mess\n",
    "    with open(message_file, \"rb\") as message_file:\n",
    "        message = message_file.read()\n",
    "\n",
    "    # Ký tin nhắn sử dụng khóa bí mật\n",
    "    signature = private_key.sign(\n",
    "        message,\n",
    "        padding.PSS(\n",
    "            mgf=padding.MGF1(hashes.SHA256()),\n",
    "            salt_length=padding.PSS.MAX_LENGTH\n",
    "        ),\n",
    "        hashes.SHA256()\n",
    "    )\n",
    "\n",
    "    # Lưu chữ ký vào tệp sign\n",
    "    with open(signature_file, \"wb\") as signature_file:\n",
    "        signature_file.write(signature)\n",
    "\n",
    "private_key_file_path = './key/priv.pem'\n",
    "message_file_path = './key/mess.txt'\n",
    "signature_file_path = './key/sign.txt'\n",
    "\n",
    "sign_message(private_key_file_path, message_file_path, signature_file_path)"
   ]
  }
 ],
 "metadata": {
  "kernelspec": {
   "display_name": "Python 3",
   "language": "python",
   "name": "python3"
  },
  "language_info": {
   "codemirror_mode": {
    "name": "ipython",
    "version": 3
   },
   "file_extension": ".py",
   "mimetype": "text/x-python",
   "name": "python",
   "nbconvert_exporter": "python",
   "pygments_lexer": "ipython3",
   "version": "3.11.7"
  }
 },
 "nbformat": 4,
 "nbformat_minor": 2
}
