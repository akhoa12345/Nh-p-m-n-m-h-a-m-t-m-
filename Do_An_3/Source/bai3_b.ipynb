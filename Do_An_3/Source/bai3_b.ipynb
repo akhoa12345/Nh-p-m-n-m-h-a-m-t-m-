{
 "cells": [
  {
   "cell_type": "code",
   "execution_count": 4,
   "metadata": {},
   "outputs": [],
   "source": [
    "from cryptography.hazmat.backends import default_backend\n",
    "from cryptography.hazmat.primitives import serialization, hashes\n",
    "from cryptography.hazmat.primitives.asymmetric import padding"
   ]
  },
  {
   "cell_type": "code",
   "execution_count": 5,
   "metadata": {},
   "outputs": [
    {
     "name": "stdout",
     "output_type": "stream",
     "text": [
      "Chữ ký hợp lệ. Tin nhắn đã được xác thực.\n"
     ]
    }
   ],
   "source": [
    "def verify_signature(public_key_file, message_file, signature_file):\n",
    "    # Đọc khóa công khai từ tệp pub.pem\n",
    "    with open(public_key_file, \"rb\") as key_file:\n",
    "        public_key = serialization.load_pem_public_key(\n",
    "            key_file.read(),\n",
    "            backend=default_backend()\n",
    "        )\n",
    "\n",
    "    # Đọc tin nhắn từ tệp mess\n",
    "    with open(message_file, \"rb\") as message_file:\n",
    "        message = message_file.read()\n",
    "\n",
    "    # Đọc chữ ký từ tệp sign\n",
    "    with open(signature_file, \"rb\") as signature_file:\n",
    "        signature = signature_file.read()\n",
    "\n",
    "    try:\n",
    "        # Xác thực chữ ký với khóa công khai\n",
    "        public_key.verify(\n",
    "            signature,\n",
    "            message,\n",
    "            padding.PSS(\n",
    "                mgf=padding.MGF1(hashes.SHA256()),\n",
    "                salt_length=padding.PSS.MAX_LENGTH\n",
    "            ),\n",
    "            hashes.SHA256()\n",
    "        )\n",
    "        print(\"Chữ ký hợp lệ. Tin nhắn đã được xác thực.\")\n",
    "    except Exception as e:\n",
    "        print(\"Chữ ký không hợp lệ. Tin nhắn không thể xác thực.\")\n",
    "\n",
    "public_key_file_path = './key/pub.pem'\n",
    "message_file_path = './key/mess.txt'\n",
    "signature_file_path = './key/sign.txt'\n",
    "\n",
    "verify_signature(public_key_file_path, message_file_path, signature_file_path)"
   ]
  }
 ],
 "metadata": {
  "kernelspec": {
   "display_name": "Python 3",
   "language": "python",
   "name": "python3"
  },
  "language_info": {
   "codemirror_mode": {
    "name": "ipython",
    "version": 3
   },
   "file_extension": ".py",
   "mimetype": "text/x-python",
   "name": "python",
   "nbconvert_exporter": "python",
   "pygments_lexer": "ipython3",
   "version": "3.11.7"
  }
 },
 "nbformat": 4,
 "nbformat_minor": 2
}
