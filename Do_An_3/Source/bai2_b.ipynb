{
 "cells": [
  {
   "cell_type": "code",
   "execution_count": 1,
   "metadata": {},
   "outputs": [],
   "source": [
    "from cryptography.hazmat.backends import default_backend\n",
    "from cryptography.hazmat.primitives import serialization, hashes\n",
    "from cryptography.hazmat.primitives.asymmetric import padding"
   ]
  },
  {
   "cell_type": "code",
   "execution_count": 2,
   "metadata": {},
   "outputs": [],
   "source": [
    "def decrypt_data(private_key_file, ciphertext_file, plaintext_file):\n",
    "    # Đọc khóa bí mật từ tệp priv.pem\n",
    "    with open(private_key_file, \"rb\") as key_file:\n",
    "        private_key = serialization.load_pem_private_key(\n",
    "            key_file.read(),\n",
    "            password=None,  \n",
    "            backend=default_backend()\n",
    "        )\n",
    "\n",
    "    # Đọc bản mã từ tệp cipher\n",
    "    with open(ciphertext_file, \"rb\") as cipher_file:\n",
    "        ciphertext = cipher_file.read()\n",
    "\n",
    "    # Giải mã dữ liệu sử dụng khóa bí mật\n",
    "    plaintext = private_key.decrypt(\n",
    "        ciphertext,\n",
    "        padding.OAEP(\n",
    "            mgf=padding.MGF1(algorithm=hashes.SHA256()),\n",
    "            algorithm=hashes.SHA256(),\n",
    "            label=None\n",
    "        )\n",
    "    )\n",
    "\n",
    "    # Lưu bản rõ vào tệp plain\n",
    "    with open(plaintext_file, \"wb\") as plain_file:\n",
    "        plain_file.write(plaintext)\n",
    "\n",
    "private_key_file_path = './key/priv.pem'\n",
    "ciphertext_file_path = './key/cipher.txt'\n",
    "plaintext_file_path = './key/plain.txt'\n",
    "\n",
    "decrypt_data(private_key_file_path, ciphertext_file_path, plaintext_file_path)"
   ]
  }
 ],
 "metadata": {
  "kernelspec": {
   "display_name": "Python 3",
   "language": "python",
   "name": "python3"
  },
  "language_info": {
   "codemirror_mode": {
    "name": "ipython",
    "version": 3
   },
   "file_extension": ".py",
   "mimetype": "text/x-python",
   "name": "python",
   "nbconvert_exporter": "python",
   "pygments_lexer": "ipython3",
   "version": "3.11.7"
  }
 },
 "nbformat": 4,
 "nbformat_minor": 2
}
